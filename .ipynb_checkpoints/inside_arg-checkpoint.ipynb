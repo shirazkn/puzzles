{
 "cells": [
  {
   "cell_type": "markdown",
   "metadata": {},
   "source": [
    "### Unsolved Questions:\n",
    "\n",
    "- What do the red pixels mean?\n",
    "\n",
    "- How do (if at all) the PC codes translate to `LIFEDETECTED`?\n",
    "\n",
    "- What to do with the PC short strings/ XBox short strings?"
   ]
  },
  {
   "cell_type": "markdown",
   "metadata": {},
   "source": [
    "# LONG CODES (PC)"
   ]
  },
  {
   "cell_type": "code",
   "execution_count": 38,
   "metadata": {},
   "outputs": [],
   "source": [
    "%matplotlib inline\n",
    "\n",
    "# LONG CODES\n",
    "file1 = open('inside-printercodes/pc_long.txt', 'r')\n",
    "codes = file1.read().split(\"\\n\")"
   ]
  },
  {
   "cell_type": "code",
   "execution_count": 39,
   "metadata": {},
   "outputs": [],
   "source": [
    "import numpy as np\n",
    "from copy import deepcopy\n",
    "\n",
    "# Each symbol is mapped to a different color\n",
    "SYM_RGB_MAP = {\n",
    "    \"-\" : np.array([0.0,0.0,0.0]),\n",
    "    \"/\" : np.array([1.0,1.0,1.0]),\n",
    "    \".\" : np.array([1.0,0.2,0.0])\n",
    "}\n",
    "\n",
    "def codes_to_rgb_array(codes):\n",
    "    rgb_array = []\n",
    "    for code in codes:\n",
    "        rgb_array.append([])\n",
    "        for c in code:\n",
    "            rgb_array[-1].append(SYM_RGB_MAP[c])\n",
    "    return np.array(rgb_array)"
   ]
  },
  {
   "cell_type": "code",
   "execution_count": 40,
   "metadata": {},
   "outputs": [
    {
     "data": {
      "text/plain": [
       "<matplotlib.image.AxesImage at 0x7fa96b1d1100>"
      ]
     },
     "execution_count": 40,
     "metadata": {},
     "output_type": "execute_result"
    },
    {
     "data": {
      "image/png": "[encoded data removed]",
      "text/plain": [
       "<Figure size 400x400 with 1 Axes>"
      ]
     },
     "metadata": {},
     "output_type": "display_data"
    }
   ],
   "source": [
    "import matplotlib.pyplot as plt\n",
    "\n",
    "# Here's what the strings look like, out of order\n",
    "plt.figure(figsize=(5, 5), dpi= 80, facecolor='w', edgecolor='k')\n",
    "plt.imshow(codes_to_rgb_array(codes))"
   ]
  },
  {
   "cell_type": "code",
   "execution_count": 41,
   "metadata": {},
   "outputs": [],
   "source": [
    "def reorder(codes, ordering):\n",
    "    n = len(codes)\n",
    "    assert len(set(ordering)) == n \n",
    "    assert np.min(ordering) == 0\n",
    "    assert np.max(ordering) == n-1\n",
    "    \n",
    "    new_codes = [None for _ in range(n)]\n",
    "    for i in range(n):\n",
    "        new_codes[i] = deepcopy(codes[ordering[i]])\n",
    "        \n",
    "    return new_codes"
   ]
  },
  {
   "cell_type": "code",
   "execution_count": 42,
   "metadata": {},
   "outputs": [],
   "source": [
    "def swap(ordering, a, b):\n",
    "    temp = ordering[a]\n",
    "    ordering[a] = ordering[b]\n",
    "    ordering[b] = temp"
   ]
  },
  {
   "cell_type": "code",
   "execution_count": 45,
   "metadata": {
    "scrolled": true
   },
   "outputs": [
    {
     "data": {
      "text/plain": [
       "<matplotlib.image.AxesImage at 0x7fa96a0e3d60>"
      ]
     },
     "execution_count": 45,
     "metadata": {},
     "output_type": "execute_result"
    },
    {
     "data": {
      "image/png": "[encoded data removed]",
      "text/plain": [
       "<Figure size 400x400 with 1 Axes>"
      ]
     },
     "metadata": {},
     "output_type": "display_data"
    }
   ],
   "source": [
    "# Supposed 'correct' ordering as per Discord solve\n",
    "ordering = [21,1,2,22,3,8,24,7,6,23,5,4,25,9,10,27,11,13,\n",
    "            28,15,16,30,17,18,31,19,20,29,14,12,26,0]\n",
    "\n",
    "plt.figure(figsize=(5, 5), dpi= 80, facecolor='w', edgecolor='k')\n",
    "plt.imshow(codes_to_rgb_array(reorder(codes,ordering)))"
   ]
  },
  {
   "cell_type": "code",
   "execution_count": 195,
   "metadata": {},
   "outputs": [
    {
     "name": "stdout",
     "output_type": "stream",
     "text": [
      "Totel number of 'corrupt' symbols: 103\n"
     ]
    }
   ],
   "source": [
    "# image_acorn = codes_to_rgb_array(reorder(codes,ordering))\n",
    "# image_l = [row[::1] for row in image_acorn[16:,:16]]\n",
    "# image_l = np.array(image_l).transpose(1, 0, 2)\n",
    "# image_r = image_acorn[16:,16:]\n",
    "# small_image = (image_l[::1] + image_r[::1])\n",
    "# plt.figure(0)\n",
    "# plt.imshow(small_image)\n",
    "# plt.figure(1)\n",
    "# plt.imshow(small_image*0.5)\n",
    "n_dots = 0\n",
    "for code in codes:\n",
    "    for c in code:\n",
    "        if c==\".\":\n",
    "            n_dots += 1\n",
    "print(f\"Totel number of 'corrupt' symbols: {n_dots}\")\n"
   ]
  },
  {
   "cell_type": "markdown",
   "metadata": {},
   "source": [
    "# SHORT CODES"
   ]
  },
  {
   "cell_type": "code",
   "execution_count": 196,
   "metadata": {},
   "outputs": [],
   "source": [
    "file2 = open('inside-printercodes/pc_short.txt', 'r')\n",
    "pc_codes = file2.read().split(\"\\n\")\n",
    "\n",
    "file3 = open('inside-printercodes/xbox_short.txt', 'r')\n",
    "xbox_codes = file3.read().split(\"\\n\")"
   ]
  },
  {
   "cell_type": "code",
   "execution_count": 197,
   "metadata": {},
   "outputs": [
    {
     "name": "stdout",
     "output_type": "stream",
     "text": [
      "PC Strings: 8 4 5 11 9 5 15 12 4 \n",
      "XBOX Strings: 28 20 26 19 19 12 26 15 16 14 17 15 \n",
      "There's 9 and 12 codes, respectively.\n"
     ]
    }
   ],
   "source": [
    "print(\"PC Strings:\", end=\" \")\n",
    "for c in pc_codes:\n",
    "    print(len(c), end=\" \")\n",
    "print(\"\\nXBOX Strings:\",end=\" \")\n",
    "for c in xbox_codes:\n",
    "    print(len(c), end=\" \")\n",
    "print(\"\\nThere's 9 and 12 codes, respectively.\")"
   ]
  },
  {
   "cell_type": "code",
   "execution_count": 198,
   "metadata": {},
   "outputs": [
    {
     "name": "stdout",
     "output_type": "stream",
     "text": [
      "Total PC Symbols: 73\n",
      "Total XBOX Symbols: 227\n",
      "Note that they add up to 300. Hmmmmmm.\n"
     ]
    }
   ],
   "source": [
    "print(f\"Total PC Symbols: {np.sum([len(c) for c in pc_codes])}\")\n",
    "print(f\"Total XBOX Symbols: {np.sum([len(c) for c in xbox_codes])}\")\n",
    "print(\"Note that they add up to 300. Hmmmmmm.\")"
   ]
  },
  {
   "cell_type": "code",
   "execution_count": 199,
   "metadata": {},
   "outputs": [
    {
     "data": {
      "text/plain": [
       "['-------.',\n",
       " '--/.',\n",
       " '-.-.-',\n",
       " '-.-.-.-.-.-',\n",
       " '-.-.-.///',\n",
       " '-.-./',\n",
       " '.-.--..-.-.-.-/',\n",
       " '.-.-.-.-.///',\n",
       " '/.-.']"
      ]
     },
     "execution_count": 199,
     "metadata": {},
     "output_type": "execute_result"
    }
   ],
   "source": [
    "pc_codes"
   ]
  },
  {
   "cell_type": "code",
   "execution_count": 200,
   "metadata": {},
   "outputs": [
    {
     "data": {
      "text/plain": [
       "['---.-.--------.-.--.----.---',\n",
       " '-..-.--..----..-....',\n",
       " '.-.--.....-.-.-------..-.-',\n",
       " '.-.-.-.------------',\n",
       " '.-..---....--.-.---',\n",
       " '.-..-.-.-.--',\n",
       " '.-..-.-.-.-...............',\n",
       " '..-.------..-.-',\n",
       " '..-.-.--.-....--',\n",
       " '..-.-.-.-.-...',\n",
       " '...-.-.-.-.......',\n",
       " '.......--------']"
      ]
     },
     "execution_count": 200,
     "metadata": {},
     "output_type": "execute_result"
    }
   ],
   "source": [
    "xbox_codes"
   ]
  },
  {
   "cell_type": "code",
   "execution_count": 239,
   "metadata": {},
   "outputs": [],
   "source": [
    "short_codes = reorder(deepcopy(pc_codes+xbox_codes), range(21))\n",
    "np.random.shuffle(short_codes)"
   ]
  },
  {
   "cell_type": "code",
   "execution_count": 240,
   "metadata": {},
   "outputs": [
    {
     "data": {
      "text/plain": [
       "<matplotlib.image.AxesImage at 0x7fa953a9b0d0>"
      ]
     },
     "execution_count": 240,
     "metadata": {},
     "output_type": "execute_result"
    },
    {
     "data": {
      "image/png": "[encoded data removed]",
      "text/plain": [
       "<Figure size 432x288 with 1 Axes>"
      ]
     },
     "metadata": {
      "needs_background": "light"
     },
     "output_type": "display_data"
    }
   ],
   "source": [
    "#ordering_short = [2,0,20,3,4,5,6,7,8,9,10,11,12,13,14,15,16,17,18,19,1]\n",
    "short_codes = reorder(short_codes, ordering_short)\n",
    "\n",
    "rgb_vals = []\n",
    "for c in codes_to_rgb_array(short_codes):\n",
    "    rgb_vals.extend(c)\n",
    "\n",
    "image = np.zeros([12,25,3], dtype=float)\n",
    "k = 0\n",
    "for i in range(12):\n",
    "    for j in range(25):\n",
    "        image[i][j][:] = rgb_vals[k]\n",
    "        k+=1\n",
    "        \n",
    "plt.imshow(image)"
   ]
  },
  {
   "cell_type": "code",
   "execution_count": 226,
   "metadata": {},
   "outputs": [
    {
     "name": "stdout",
     "output_type": "stream",
     "text": [
      "Number of dots 141, number of dashes 149. 10 Spaces.\n"
     ]
    }
   ],
   "source": [
    "count = 0\n",
    "for code in short_codes:\n",
    "    for c in code:\n",
    "        if c == \".\":\n",
    "            count += 1\n",
    "print(f\"Number of dots 141, number of dashes 149. 10 Spaces.\")"
   ]
  },
  {
   "cell_type": "markdown",
   "metadata": {},
   "source": [
    "# FORD 42 Nut"
   ]
  },
  {
   "cell_type": "code",
   "execution_count": 210,
   "metadata": {},
   "outputs": [],
   "source": [
    "from PIL import Image\n",
    "file4 = Image.open(\"inside-other/ford42nut.png\", 'r')\n",
    "nut = file4.load()"
   ]
  },
  {
   "cell_type": "code",
   "execution_count": 217,
   "metadata": {},
   "outputs": [
    {
     "data": {
      "text/plain": [
       "(500, 506)"
      ]
     },
     "execution_count": 217,
     "metadata": {},
     "output_type": "execute_result"
    }
   ],
   "source": [
    "file4.size\n",
    "# SMH but the image should be about 40x40... idk."
   ]
  },
  {
   "cell_type": "code",
   "execution_count": null,
   "metadata": {},
   "outputs": [],
   "source": []
  }
 ],
 "metadata": {
  "kernelspec": {
   "display_name": "Python 3",
   "language": "python",
   "name": "python3"
  },
  "language_info": {
   "codemirror_mode": {
    "name": "ipython",
    "version": 3
   },
   "file_extension": ".py",
   "mimetype": "text/x-python",
   "name": "python",
   "nbconvert_exporter": "python",
   "pygments_lexer": "ipython3",
   "version": "3.8.0"
  }
 },
 "nbformat": 4,
 "nbformat_minor": 2
}
